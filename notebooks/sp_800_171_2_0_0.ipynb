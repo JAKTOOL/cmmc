{
 "cells": [
  {
   "cell_type": "code",
   "execution_count": 8,
   "metadata": {},
   "outputs": [
    {
     "name": "stdout",
     "output_type": "stream",
     "text": [
      "JSON data has been stored in ../client/public/data/sp_800_171_2_0_0/framework.json\n"
     ]
    }
   ],
   "source": [
    "import requests\n",
    "import os\n",
    "import json\n",
    "import re \n",
    "\n",
    "# URL to fetch the JSON data\n",
    "url = \"https://csrc.nist.gov/extensions/nudp/services/json/nudp/framework/version/sp_800_171_2_0_0/export/json?element=all\"\n",
    "\n",
    "# File path to store the JSON data\n",
    "framework_file_path = \"../client/public/data/sp_800_171_2_0_0/framework.json\"\n",
    "\n",
    "# Fetch the JSON data\n",
    "response = requests.get(url)\n",
    "framework_data = response.json()\n",
    "\n",
    "# Regex match form 3.14.1 and 03.14\n",
    "pattern = re.compile(r'\\d{1}\\.\\d{1,2}(?:\\.\\d{1,2})?')\n",
    "\n",
    "# Convert v2 id to v3\n",
    "for element in framework_data[\"response\"][\"elements\"][\"elements\"]:\n",
    "    identifier = pattern.search(element['element_identifier'])\n",
    "    if identifier:\n",
    "        v3_identifier = \".\".join(map(lambda c: c.rjust(2, '0'), identifier.group(0).split(\".\")))\n",
    "        element['element_identifier'] = element['element_identifier'].replace(identifier.group(0), v3_identifier)\n",
    "\n",
    "# Ensure the directory exists\n",
    "os.makedirs(os.path.dirname(framework_file_path), exist_ok=True)\n",
    "\n",
    "# Write the JSON data to the file\n",
    "with open(framework_file_path, 'w') as file:\n",
    "    json.dump(framework_data, file, indent=4)\n",
    "\n",
    "print(f\"JSON data has been stored in {framework_file_path}\")"
   ]
  }
 ],
 "metadata": {
  "kernelspec": {
   "display_name": ".venv",
   "language": "python",
   "name": "python3"
  },
  "language_info": {
   "codemirror_mode": {
    "name": "ipython",
    "version": 3
   },
   "file_extension": ".py",
   "mimetype": "text/x-python",
   "name": "python",
   "nbconvert_exporter": "python",
   "pygments_lexer": "ipython3",
   "version": "3.12.9"
  }
 },
 "nbformat": 4,
 "nbformat_minor": 2
}
