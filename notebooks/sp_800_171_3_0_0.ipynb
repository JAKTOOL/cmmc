{
 "cells": [
  {
   "cell_type": "code",
   "execution_count": 237,
   "metadata": {},
   "outputs": [],
   "source": [
    "import requests\n",
    "import os\n",
    "import json\n",
    "from typing import Dict\n",
    "# URL to fetch the JSON data\n",
    "url = \"https://csrc.nist.gov/extensions/nudp/services/json/nudp/framework/version/sp_800_171_3_0_0/export/json?element=all\"\n",
    "\n",
    "# File path to store the JSON data\n",
    "framework_file_path = \"../client/public/data/sp_800_171_3_0_0/framework.json\"\n",
    "\n",
    "# Fetch the JSON data\n",
    "response = requests.get(url)\n",
    "framework_data = response.json()"
   ]
  },
  {
   "cell_type": "code",
   "execution_count": 238,
   "metadata": {},
   "outputs": [],
   "source": [
    "withdrawn: Dict[str, str] = {}\n",
    "for element in framework_data[\"response\"][\"elements\"][\"elements\"]:\n",
    "    if element['element_type'] == \"withdraw_reason\":\n",
    "        element_id = element[\"element_identifier\"][-8:]\n",
    "        withdrawn[element_id] = element[\"text\"]\n",
    "\n",
    "requirements = [ element for element in framework_data[\"response\"][\"elements\"][\"elements\"] if element[\"element_type\"] == \"requirement\" ]"
   ]
  },
  {
   "cell_type": "code",
   "execution_count": 239,
   "metadata": {},
   "outputs": [],
   "source": [
    "# File path to store the JSON data\n",
    "framework_v2_file_path = \"../client/public/data/sp_800_171_2_0_0/framework.json\"\n",
    "\n",
    "# Write the JSON data to the file\n",
    "with open(framework_v2_file_path, 'r') as file:\n",
    "   v2 = json.load(file)\n",
    "\n",
    "\n",
    "\n",
    "for v2_element in v2[\"response\"][\"elements\"][\"elements\"]:\n",
    "   identifier = v2_element[\"element_identifier\"][-8:]\n",
    "   element_type = v2_element[\"element_type\"]\n",
    "   if identifier in withdrawn:\n",
    "      if element_type == 'discussion':\n",
    "         framework_data[\"response\"][\"elements\"][\"elements\"].append(v2_element)\n",
    "      elif element_type == 'requirement':\n",
    "         for element in framework_data[\"response\"][\"elements\"][\"elements\"]:\n",
    "            if element[\"element_identifier\"][-8:] == identifier:\n",
    "               element[\"text\"] = v2_element[\"text\"]\n",
    "               framework_data[\"response\"][\"elements\"][\"elements\"].append({\n",
    "                  **v2_element,\n",
    "                  \"element_identifier\": f\"SR-{identifier}\",\n",
    "                  \"element_type\": \"security_requirement\"\n",
    "               })\n",
    "               break"
   ]
  },
  {
   "cell_type": "code",
   "execution_count": 240,
   "metadata": {},
   "outputs": [],
   "source": [
    "import re\n",
    "from typing import Dict\n",
    "from dataclasses import dataclass\n",
    "\n",
    "pattern = re.compile(r'\\d{2}\\.\\d{2}\\.\\d{2}')\n",
    "\n",
    "withdrawn_relations: Dict[str, Dict] = {}\n",
    "\n",
    "for identifier, text in withdrawn.items():\n",
    "    matches = pattern.findall(text)\n",
    "    \n",
    "    if identifier not in withdrawn_relations:\n",
    "        withdrawn_relations[identifier] = {\n",
    "            \"withdrawn_into\": list(matches),\n",
    "            \"withdrawn_from\": list(),\n",
    "            \"value\": 0,\n",
    "            \"partial_value\": 0,\n",
    "            \"revision\": 2,\n",
    "            \"aggregate_value_withdrawn_from\": 0,\n",
    "            \"aggregate_partial_value_withdrawn_from\": 0\n",
    "        }\n",
    "    else:\n",
    "        withdrawn_relations[identifier][\"withdrawn_into\"] = withdrawn_relations[identifier][\"withdrawn_into\"] + list(matches)\n",
    "\n",
    "    for match in matches:\n",
    "        if match not in withdrawn_relations:\n",
    "            withdrawn_relations[match] = {\n",
    "                \"withdrawn_into\": list(),\n",
    "                \"withdrawn_from\": [identifier],\n",
    "                \"value\": 0,\n",
    "                \"partial_value\": 0,\n",
    "                \"revision\": 2,\n",
    "                \"aggregate_value_withdrawn_from\": 0,\n",
    "                \"aggregate_partial_value_withdrawn_from\": 0\n",
    "            }\n",
    "        else:\n",
    "            withdrawn_relations[match][\"withdrawn_from\"].append(identifier)\n",
    "\n",
    "for element in requirements:\n",
    "    if element[\"element_identifier\"] not in withdrawn_relations:\n",
    "        withdrawn_relations[element[\"element_identifier\"]] = {\n",
    "                \"withdrawn_into\": list(),\n",
    "                \"withdrawn_from\": list(),\n",
    "                \"value\": 0,\n",
    "                \"partial_value\": 0,\n",
    "                \"revision\": 3,\n",
    "                \"aggregate_value_withdrawn_from\": 0,\n",
    "                \"aggregate_partial_value_withdrawn_from\": 0\n",
    "        }\n"
   ]
  },
  {
   "cell_type": "code",
   "execution_count": 241,
   "metadata": {},
   "outputs": [],
   "source": [
    "%%bash\n",
    "# Scoring https://www.acq.osd.mil/asda/dpc/cp/cyber/docs/safeguarding/NIST-SP-800-171-Assessment-Methodology-Version-1.2.1-6.24.2020.pdf\n",
    "mlr --icsv --ojson --jlistwrap cat ../data/values.csv > ../data/values.json"
   ]
  },
  {
   "cell_type": "code",
   "execution_count": 242,
   "metadata": {},
   "outputs": [],
   "source": [
    "# Write the JSON data to the file\n",
    "with open(\"../data/values.json\", 'r') as file:\n",
    "   values = json.load(file)\n",
    "\n",
    "for item in values:\n",
    "   identifier = item[\"identifier\"]\n",
    "   value = item[\"value\"]\n",
    "   partial_value = item[\"partial_value\"]\n",
    "\n",
    "   relation = withdrawn_relations[identifier]\n",
    "   into_count = len(relation[\"withdrawn_into\"])\n",
    "\n",
    "   if into_count:\n",
    "      for into_id in relation[\"withdrawn_into\"]:\n",
    "         withdrawn_relations[into_id][\"aggregate_value_withdrawn_from\"] += (value / into_count)\n",
    "         withdrawn_relations[into_id][\"aggregate_partial_value_withdrawn_from\"] += (partial_value / into_count)\n",
    "\n",
    "   relation[\"value\"] = value\n",
    "   relation[\"partial_value\"] = partial_value\n",
    "\n",
    "with open('../client/public/data/sp_800_171_3_0_0/values.json', 'w') as file:\n",
    "   json.dump(withdrawn_relations, file, indent=4)"
   ]
  },
  {
   "cell_type": "code",
   "execution_count": 243,
   "metadata": {},
   "outputs": [
    {
     "name": "stdout",
     "output_type": "stream",
     "text": [
      "JSON data has been stored in ../client/public/data/sp_800_171_3_0_0/framework.json\n"
     ]
    }
   ],
   "source": [
    "# Ensure the directory exists\n",
    "os.makedirs(os.path.dirname(framework_file_path), exist_ok=True)\n",
    "\n",
    "# Write the JSON data to the file\n",
    "with open(framework_file_path, 'w') as file:\n",
    "    json.dump(framework_data, file, indent=4)\n",
    "\n",
    "print(f\"JSON data has been stored in {framework_file_path}\")"
   ]
  }
 ],
 "metadata": {
  "kernelspec": {
   "display_name": ".venv",
   "language": "python",
   "name": "python3"
  },
  "language_info": {
   "codemirror_mode": {
    "name": "ipython",
    "version": 3
   },
   "file_extension": ".py",
   "mimetype": "text/x-python",
   "name": "python",
   "nbconvert_exporter": "python",
   "pygments_lexer": "ipython3",
   "version": "3.12.9"
  }
 },
 "nbformat": 4,
 "nbformat_minor": 2
}
