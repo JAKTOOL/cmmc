{
 "cells": [
  {
   "cell_type": "code",
   "execution_count": 3,
   "metadata": {},
   "outputs": [
    {
     "name": "stdout",
     "output_type": "stream",
     "text": [
      "JSON data has been stored in ../src/api/data/sp_800_171_3_0_0/framework.json\n"
     ]
    }
   ],
   "source": [
    "import requests\n",
    "import os\n",
    "import json\n",
    "\n",
    "# URL to fetch the JSON data\n",
    "url = \"https://csrc.nist.gov/extensions/nudp/services/json/nudp/framework/version/sp_800_171_3_0_0/export/json?element=all\"\n",
    "\n",
    "# File path to store the JSON data\n",
    "framework_file_path = \"../src/api/data/sp_800_171_3_0_0/framework.json\"\n",
    "\n",
    "# Fetch the JSON data\n",
    "response = requests.get(url)\n",
    "framework_data = response.json()\n",
    "\n",
    "# Ensure the directory exists\n",
    "os.makedirs(os.path.dirname(framework_file_path), exist_ok=True)\n",
    "\n",
    "# Write the JSON data to the file\n",
    "with open(framework_file_path, 'w') as file:\n",
    "    json.dump(framework_data, file, indent=4)\n",
    "\n",
    "print(f\"JSON data has been stored in {framework_file_path}\")"
   ]
  },
  {
   "cell_type": "code",
   "execution_count": 4,
   "metadata": {},
   "outputs": [],
   "source": [
    "import re\n",
    "import time\n",
    "\n",
    "# Regex match form 03.14.01 and 03.14\n",
    "pattern = re.compile(r'\\d{2}\\.\\d{2}(?:\\.\\d{2})?')\n",
    "\n",
    "for element in framework_data[\"response\"][\"elements\"][\"elements\"]:\n",
    "    identifier = element['element_identifier']\n",
    "    if pattern.match(identifier):\n",
    "\n",
    "        url = f\"https://csrc.nist.gov/extensions/nudp/services/json/nudp/framework/version/sp_800_171_3_0_0/element/{identifier}/graph\"\n",
    "        file_path = (\n",
    "            f\"../src/api/data/sp_800_171_3_0_0/elements/{identifier}.json\"\n",
    "        )\n",
    "\n",
    "        # Fetch the JSON data\n",
    "        response = requests.get(url).json()\n",
    "\n",
    "        # Ensure the directory exists\n",
    "        os.makedirs(os.path.dirname(file_path), exist_ok=True)\n",
    "\n",
    "        with open(file_path, \"w\") as file:\n",
    "            json.dump(response, file, indent=4)\n",
    "\n",
    "\n",
    "        # Add sleep to prevent throttling\n",
    "        time.sleep(1)\n",
    "\n"
   ]
  },
  {
   "cell_type": "code",
   "execution_count": null,
   "metadata": {},
   "outputs": [],
   "source": []
  }
 ],
 "metadata": {
  "kernelspec": {
   "display_name": ".venv",
   "language": "python",
   "name": "python3"
  },
  "language_info": {
   "codemirror_mode": {
    "name": "ipython",
    "version": 3
   },
   "file_extension": ".py",
   "mimetype": "text/x-python",
   "name": "python",
   "nbconvert_exporter": "python",
   "pygments_lexer": "ipython3",
   "version": "3.12.6"
  }
 },
 "nbformat": 4,
 "nbformat_minor": 2
}
