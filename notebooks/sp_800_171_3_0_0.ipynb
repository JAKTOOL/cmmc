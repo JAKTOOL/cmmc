{
 "cells": [
  {
   "cell_type": "code",
   "execution_count": 93,
   "metadata": {},
   "outputs": [],
   "source": [
    "import requests\n",
    "import os\n",
    "import json\n",
    "from typing import Dict\n",
    "# URL to fetch the JSON data\n",
    "url = \"https://csrc.nist.gov/extensions/nudp/services/json/nudp/framework/version/sp_800_171_3_0_0/export/json?element=all\"\n",
    "\n",
    "# File path to store the JSON data\n",
    "framework_file_path = \"../client/public/data/sp_800_171_3_0_0/framework.json\"\n",
    "\n",
    "# Fetch the JSON data\n",
    "response = requests.get(url)\n",
    "framework_data = response.json()"
   ]
  },
  {
   "cell_type": "code",
   "execution_count": 94,
   "metadata": {},
   "outputs": [],
   "source": [
    "withdrawn: Dict[str, str] = {}\n",
    "for element in framework_data[\"response\"][\"elements\"][\"elements\"]:\n",
    "    if element['element_type'] == \"withdraw_reason\":\n",
    "        element_id = element[\"element_identifier\"][-8:]\n",
    "        withdrawn[element_id] = element[\"text\"]"
   ]
  },
  {
   "cell_type": "code",
   "execution_count": 95,
   "metadata": {},
   "outputs": [],
   "source": [
    "# File path to store the JSON data\n",
    "framework_v2_file_path = \"../client/public/data/sp_800_171_2_0_0/framework.json\"\n",
    "\n",
    "# Write the JSON data to the file\n",
    "with open(framework_v2_file_path, 'r') as file:\n",
    "   v2 = json.load(file)\n",
    "\n",
    "for v2_element in v2[\"response\"][\"elements\"][\"elements\"]:\n",
    "   identifier = v2_element[\"element_identifier\"][-8:]\n",
    "   element_type = v2_element[\"element_type\"]\n",
    "\n",
    "   if identifier in withdrawn:\n",
    "      if element_type == 'discussion':\n",
    "         framework_data[\"response\"][\"elements\"][\"elements\"].append(v2_element)\n",
    "      elif element_type == 'requirement':\n",
    "         for element in framework_data[\"response\"][\"elements\"][\"elements\"]:\n",
    "            if element[\"element_identifier\"][-8:] == identifier:\n",
    "\n",
    "               # Add the R2 items to R3\n",
    "               element[\"text\"] = v2_element[\"text\"]\n",
    "               framework_data[\"response\"][\"elements\"][\"elements\"].append({\n",
    "                  **v2_element,\n",
    "                  \"element_identifier\": f\"SR-{identifier}\",\n",
    "                  \"element_type\": \"security_requirement\"\n",
    "               })\n",
    "               break\n"
   ]
  },
  {
   "cell_type": "code",
   "execution_count": 96,
   "metadata": {},
   "outputs": [],
   "source": [
    "_v2_requirements = [ \n",
    "    element for element \n",
    "    in v2[\"response\"][\"elements\"][\"elements\"] \n",
    "    if element[\"element_type\"] == \"requirement\"\n",
    "]\n",
    "v2_requirements = {\n",
    "   requirement['element_identifier']:\n",
    "   requirement for requirement in _v2_requirements\n",
    "}\n",
    "\n",
    "_v3_requirements = [ \n",
    "    element for element\n",
    "    in framework_data[\"response\"][\"elements\"][\"elements\"] \n",
    "    if element[\"element_type\"] == \"requirement\"\n",
    "]\n",
    "v3_requirements = {\n",
    "    requirement['element_identifier']:\n",
    "    requirement for requirement in _v3_requirements\n",
    "}"
   ]
  },
  {
   "cell_type": "code",
   "execution_count": 97,
   "metadata": {},
   "outputs": [],
   "source": [
    "import re\n",
    "from typing import Dict\n",
    "\n",
    "pattern = re.compile(r'\\d{2}\\.\\d{2}\\.\\d{2}')\n",
    "\n",
    "value_mapping: Dict[str, Dict] = {}\n",
    "\n",
    "for identifier, text in withdrawn.items():\n",
    "    matches = pattern.findall(text)\n",
    "    \n",
    "    if identifier not in value_mapping:\n",
    "        value_mapping[identifier] = {\n",
    "            \"withdrawn_into\": list(matches),\n",
    "            \"withdrawn_from\": list(),\n",
    "            \"value\": 0,\n",
    "            \"partial_value\": 0,\n",
    "            \"revision\": [],\n",
    "            \"aggregate_value_withdrawn_from\": 0,\n",
    "            \"aggregate_partial_value_withdrawn_from\": 0\n",
    "        }\n",
    "    else:\n",
    "        value_mapping[identifier][\"withdrawn_into\"] = value_mapping[identifier][\"withdrawn_into\"] + list(matches)\n",
    "\n",
    "    for match in matches:\n",
    "        if match not in value_mapping:\n",
    "            value_mapping[match] = {\n",
    "                \"withdrawn_into\": list(),\n",
    "                \"withdrawn_from\": [identifier],\n",
    "                \"value\": 0,\n",
    "                \"partial_value\": 0,\n",
    "                \"revision\": [],\n",
    "                \"aggregate_value_withdrawn_from\": 0,\n",
    "                \"aggregate_partial_value_withdrawn_from\": 0\n",
    "            }\n",
    "        else:\n",
    "            value_mapping[match][\"withdrawn_from\"].append(identifier)\n",
    "\n",
    "for element in _v3_requirements:\n",
    "    if element[\"element_identifier\"] not in value_mapping:\n",
    "        value_mapping[element[\"element_identifier\"]] = {\n",
    "                \"withdrawn_into\": list(),\n",
    "                \"withdrawn_from\": list(),\n",
    "                \"value\": 0,\n",
    "                \"partial_value\": 0,\n",
    "                \"revision\": [],\n",
    "                \"aggregate_value_withdrawn_from\": 0,\n",
    "                \"aggregate_partial_value_withdrawn_from\": 0\n",
    "        }"
   ]
  },
  {
   "cell_type": "code",
   "execution_count": 98,
   "metadata": {},
   "outputs": [],
   "source": [
    "%%bash\n",
    "# Scoring https://www.acq.osd.mil/asda/dpc/cp/cyber/docs/safeguarding/NIST-SP-800-171-Assessment-Methodology-Version-1.2.1-6.24.2020.pdf\n",
    "mlr --icsv --ojson --jlistwrap cat ../data/scores.csv > ../data/scores.json"
   ]
  },
  {
   "cell_type": "code",
   "execution_count": null,
   "metadata": {},
   "outputs": [],
   "source": [
    "def _get_revisions(identifier: str):\n",
    "    if identifier in withdrawn:\n",
    "        return [2]\n",
    "\n",
    "    if identifier in v2_requirements and identifier in v3_requirements:\n",
    "        return [2,3]\n",
    "    \n",
    "    return [3]\n",
    "\n",
    "for [identifier, item] in value_mapping.items():\n",
    "    item['revision'] = _get_revisions(identifier)"
   ]
  },
  {
   "cell_type": "code",
   "execution_count": 100,
   "metadata": {},
   "outputs": [],
   "source": [
    "# Write the JSON data to the file\n",
    "with open(\"../data/scores.json\", 'r') as file:\n",
    "   scores = json.load(file)\n",
    "\n",
    "for score in scores:\n",
    "   identifier = score[\"identifier\"]\n",
    "   value = score[\"value\"]\n",
    "   partial_value = score[\"partial_value\"]\n",
    "\n",
    "   item = value_mapping[identifier]\n",
    "   into_count = len(item[\"withdrawn_into\"])\n",
    "\n",
    "   if into_count:\n",
    "      for into_id in item[\"withdrawn_into\"]:\n",
    "         value_mapping[into_id][\"aggregate_value_withdrawn_from\"] += (value / into_count)\n",
    "         value_mapping[into_id][\"aggregate_partial_value_withdrawn_from\"] += (partial_value / into_count)\n",
    "\n",
    "   item[\"value\"] = value\n",
    "   item[\"partial_value\"] = partial_value\n",
    "\n",
    "with open('../client/public/data/sp_800_171_3_0_0/values.json', 'w') as file:\n",
    "   json.dump(value_mapping, file, indent=4)"
   ]
  },
  {
   "cell_type": "code",
   "execution_count": 101,
   "metadata": {},
   "outputs": [
    {
     "name": "stdout",
     "output_type": "stream",
     "text": [
      "JSON data has been stored in ../client/public/data/sp_800_171_3_0_0/framework.json\n"
     ]
    }
   ],
   "source": [
    "# Ensure the directory exists\n",
    "os.makedirs(os.path.dirname(framework_file_path), exist_ok=True)\n",
    "\n",
    "# Write the JSON data to the file\n",
    "with open(framework_file_path, 'w') as file:\n",
    "    json.dump(framework_data, file, indent=4)\n",
    "\n",
    "print(f\"JSON data has been stored in {framework_file_path}\")"
   ]
  }
 ],
 "metadata": {
  "kernelspec": {
   "display_name": ".venv",
   "language": "python",
   "name": "python3"
  },
  "language_info": {
   "codemirror_mode": {
    "name": "ipython",
    "version": 3
   },
   "file_extension": ".py",
   "mimetype": "text/x-python",
   "name": "python",
   "nbconvert_exporter": "python",
   "pygments_lexer": "ipython3",
   "version": "3.12.9"
  }
 },
 "nbformat": 4,
 "nbformat_minor": 2
}
